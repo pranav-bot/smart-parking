{
 "cells": [
  {
   "cell_type": "code",
   "execution_count": 1,
   "id": "1afea260",
   "metadata": {},
   "outputs": [],
   "source": [
    "import torch\n",
    "from Ipython.display import Image"
   ]
  },
  {
   "cell_type": "code",
   "execution_count": 2,
   "id": "1e58a18e",
   "metadata": {},
   "outputs": [],
   "source": [
    "train_path = '../neural_network_for_space_detection/parking_annotations-1/train/'\n",
    "test_path = '../neural_network_for_space_detection/parking_annotations-1/test/'\n",
    "valid_path = '../neural_network_for_space_detection/parking_annotations-1/valid/'"
   ]
  },
  {
   "cell_type": "code",
   "execution_count": 12,
   "id": "6b07b57c",
   "metadata": {},
   "outputs": [],
   "source": [
    "cv2.imshow('img', img)"
   ]
  },
  {
   "cell_type": "code",
   "execution_count": null,
   "id": "89aa7588",
   "metadata": {},
   "outputs": [],
   "source": []
  }
 ],
 "metadata": {
  "kernelspec": {
   "display_name": "Python 3 (ipykernel)",
   "language": "python",
   "name": "python3"
  },
  "language_info": {
   "codemirror_mode": {
    "name": "ipython",
    "version": 3
   },
   "file_extension": ".py",
   "mimetype": "text/x-python",
   "name": "python",
   "nbconvert_exporter": "python",
   "pygments_lexer": "ipython3",
   "version": "3.7.0"
  }
 },
 "nbformat": 4,
 "nbformat_minor": 5
}
